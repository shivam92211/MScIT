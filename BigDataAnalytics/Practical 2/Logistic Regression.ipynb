{
 "cells": [
  {
   "cell_type": "code",
   "execution_count": 1,
   "id": "2edf033c",
   "metadata": {},
   "outputs": [],
   "source": [
    "options(warn=-1)"
   ]
  },
  {
   "cell_type": "code",
   "execution_count": 2,
   "id": "2671695f",
   "metadata": {},
   "outputs": [
    {
     "data": {
      "text/html": [
       "<table class=\"dataframe\">\n",
       "<caption>A data.frame: 6 × 4</caption>\n",
       "<thead>\n",
       "\t<tr><th></th><th scope=col>admit</th><th scope=col>gre</th><th scope=col>gpa</th><th scope=col>rank</th></tr>\n",
       "\t<tr><th></th><th scope=col>&lt;int&gt;</th><th scope=col>&lt;int&gt;</th><th scope=col>&lt;dbl&gt;</th><th scope=col>&lt;int&gt;</th></tr>\n",
       "</thead>\n",
       "<tbody>\n",
       "\t<tr><th scope=row>1</th><td>0</td><td>380</td><td>3.61</td><td>3</td></tr>\n",
       "\t<tr><th scope=row>2</th><td>1</td><td>660</td><td>3.67</td><td>3</td></tr>\n",
       "\t<tr><th scope=row>3</th><td>1</td><td>800</td><td>4.00</td><td>1</td></tr>\n",
       "\t<tr><th scope=row>4</th><td>1</td><td>640</td><td>3.19</td><td>4</td></tr>\n",
       "\t<tr><th scope=row>5</th><td>0</td><td>520</td><td>2.93</td><td>4</td></tr>\n",
       "\t<tr><th scope=row>6</th><td>1</td><td>760</td><td>3.00</td><td>2</td></tr>\n",
       "</tbody>\n",
       "</table>\n"
      ],
      "text/latex": [
       "A data.frame: 6 × 4\n",
       "\\begin{tabular}{r|llll}\n",
       "  & admit & gre & gpa & rank\\\\\n",
       "  & <int> & <int> & <dbl> & <int>\\\\\n",
       "\\hline\n",
       "\t1 & 0 & 380 & 3.61 & 3\\\\\n",
       "\t2 & 1 & 660 & 3.67 & 3\\\\\n",
       "\t3 & 1 & 800 & 4.00 & 1\\\\\n",
       "\t4 & 1 & 640 & 3.19 & 4\\\\\n",
       "\t5 & 0 & 520 & 2.93 & 4\\\\\n",
       "\t6 & 1 & 760 & 3.00 & 2\\\\\n",
       "\\end{tabular}\n"
      ],
      "text/markdown": [
       "\n",
       "A data.frame: 6 × 4\n",
       "\n",
       "| <!--/--> | admit &lt;int&gt; | gre &lt;int&gt; | gpa &lt;dbl&gt; | rank &lt;int&gt; |\n",
       "|---|---|---|---|---|\n",
       "| 1 | 0 | 380 | 3.61 | 3 |\n",
       "| 2 | 1 | 660 | 3.67 | 3 |\n",
       "| 3 | 1 | 800 | 4.00 | 1 |\n",
       "| 4 | 1 | 640 | 3.19 | 4 |\n",
       "| 5 | 0 | 520 | 2.93 | 4 |\n",
       "| 6 | 1 | 760 | 3.00 | 2 |\n",
       "\n"
      ],
      "text/plain": [
       "  admit gre gpa  rank\n",
       "1 0     380 3.61 3   \n",
       "2 1     660 3.67 3   \n",
       "3 1     800 4.00 1   \n",
       "4 1     640 3.19 4   \n",
       "5 0     520 2.93 4   \n",
       "6 1     760 3.00 2   "
      ]
     },
     "metadata": {},
     "output_type": "display_data"
    },
    {
     "data": {
      "text/html": [
       "400"
      ],
      "text/latex": [
       "400"
      ],
      "text/markdown": [
       "400"
      ],
      "text/plain": [
       "[1] 400"
      ]
     },
     "metadata": {},
     "output_type": "display_data"
    }
   ],
   "source": [
    "college <- read.csv(\"https://raw.githubusercontent.com/ropensci/datapack/main/inst/extdata/pkg-example/binary.csv\") \n",
    "head(college)\n",
    "nrow(college)"
   ]
  },
  {
   "cell_type": "code",
   "execution_count": 3,
   "id": "970f4a26",
   "metadata": {},
   "outputs": [
    {
     "name": "stderr",
     "output_type": "stream",
     "text": [
      "Installing package into 'C:/Users/User/AppData/Local/R/win-library/4.2'\n",
      "(as 'lib' is unspecified)\n",
      "\n"
     ]
    },
    {
     "name": "stdout",
     "output_type": "stream",
     "text": [
      "package 'caTools' successfully unpacked and MD5 sums checked\n",
      "\n",
      "The downloaded binary packages are in\n",
      "\tC:\\Users\\User\\AppData\\Local\\Temp\\Rtmp6H8SaU\\downloaded_packages\n"
     ]
    },
    {
     "data": {
      "text/html": [
       "<style>\n",
       ".list-inline {list-style: none; margin:0; padding: 0}\n",
       ".list-inline>li {display: inline-block}\n",
       ".list-inline>li:not(:last-child)::after {content: \"\\00b7\"; padding: 0 .5ex}\n",
       "</style>\n",
       "<ol class=list-inline><li>TRUE</li><li>FALSE</li><li>TRUE</li><li>TRUE</li></ol>\n"
      ],
      "text/latex": [
       "\\begin{enumerate*}\n",
       "\\item TRUE\n",
       "\\item FALSE\n",
       "\\item TRUE\n",
       "\\item TRUE\n",
       "\\end{enumerate*}\n"
      ],
      "text/markdown": [
       "1. TRUE\n",
       "2. FALSE\n",
       "3. TRUE\n",
       "4. TRUE\n",
       "\n",
       "\n"
      ],
      "text/plain": [
       "[1]  TRUE FALSE  TRUE  TRUE"
      ]
     },
     "metadata": {},
     "output_type": "display_data"
    }
   ],
   "source": [
    "install.packages(\"caTools\") \n",
    "library(caTools) \n",
    "split <- sample.split(college, SplitRatio = 0.75) \n",
    "split"
   ]
  },
  {
   "cell_type": "code",
   "execution_count": 5,
   "id": "afcf5457",
   "metadata": {},
   "outputs": [],
   "source": [
    "training_reg <- subset(college, split == \"TRUE\") \n",
    "test_reg <- subset(college, split == \"FALSE\") \n",
    "fit_logistic_model <- glm(admit ~ .,data = training_reg,family = \"binomial\") "
   ]
  },
  {
   "cell_type": "code",
   "execution_count": 6,
   "id": "47ffb899",
   "metadata": {},
   "outputs": [
    {
     "data": {
      "text/html": [
       "<strong>gre:</strong> 0.00182198945238933"
      ],
      "text/latex": [
       "\\textbf{gre:} 0.00182198945238933"
      ],
      "text/markdown": [
       "**gre:** 0.00182198945238933"
      ],
      "text/plain": [
       "        gre \n",
       "0.001821989 "
      ]
     },
     "metadata": {},
     "output_type": "display_data"
    },
    {
     "data": {
      "text/html": [
       "<strong>gpa:</strong> 0.916791548650205"
      ],
      "text/latex": [
       "\\textbf{gpa:} 0.916791548650205"
      ],
      "text/markdown": [
       "**gpa:** 0.916791548650205"
      ],
      "text/plain": [
       "      gpa \n",
       "0.9167915 "
      ]
     },
     "metadata": {},
     "output_type": "display_data"
    },
    {
     "data": {
      "text/html": [
       "<strong>rank:</strong> -0.782063511718198"
      ],
      "text/latex": [
       "\\textbf{rank:} -0.782063511718198"
      ],
      "text/markdown": [
       "**rank:** -0.782063511718198"
      ],
      "text/plain": [
       "      rank \n",
       "-0.7820635 "
      ]
     },
     "metadata": {},
     "output_type": "display_data"
    },
    {
     "data": {
      "text/html": [
       "<style>\n",
       ".dl-inline {width: auto; margin:0; padding: 0}\n",
       ".dl-inline>dt, .dl-inline>dd {float: none; width: auto; display: inline-block}\n",
       ".dl-inline>dt::after {content: \":\\0020\"; padding-right: .5ex}\n",
       ".dl-inline>dt:not(:first-of-type) {padding-left: .5ex}\n",
       "</style><dl class=dl-inline><dt>2</dt><dd>0.278433190319172</dd><dt>6</dt><dd>0.353832593137583</dd><dt>10</dt><dd>0.532925818241532</dd><dt>14</dt><dd>0.345651112207683</dd><dt>18</dt><dd>0.0747107578170348</dd><dt>22</dt><dd>0.448469866847746</dd><dt>26</dt><dd>0.702198882281945</dd><dt>30</dt><dd>0.502105207267896</dd><dt>34</dt><dd>0.402603918972973</dd><dt>38</dt><dd>0.128615628230947</dd><dt>42</dt><dd>0.345965844834579</dd><dt>46</dt><dd>0.179706260389412</dd><dt>50</dt><dd>0.151956532216069</dd><dt>54</dt><dd>0.377432537588086</dd><dt>58</dt><dd>0.106057343147371</dd><dt>62</dt><dd>0.0964430613489362</dd><dt>66</dt><dd>0.412692441118241</dd><dt>70</dt><dd>0.715442564461132</dd><dt>74</dt><dd>0.496649733590291</dd><dt>78</dt><dd>0.402603918972973</dd><dt>82</dt><dd>0.311495314240252</dd><dt>86</dt><dd>0.257720916949492</dd><dt>90</dt><dd>0.533041250174793</dd><dt>94</dt><dd>0.27005013568976</dd><dt>98</dt><dd>0.356676023249749</dd><dt>102</dt><dd>0.233315252274796</dd><dt>106</dt><dd>0.339353122274278</dd><dt>110</dt><dd>0.331848686596069</dd><dt>114</dt><dd>0.522485979107133</dd><dt>118</dt><dd>0.487136797571306</dd><dt>122</dt><dd>0.195457163044164</dd><dt>126</dt><dd>0.0980732528300422</dd><dt>130</dt><dd>0.070735894671551</dd><dt>134</dt><dd>0.143727175347758</dd><dt>138</dt><dd>0.359663247514615</dd><dt>142</dt><dd>0.141978989848597</dd><dt>146</dt><dd>0.156773455784324</dd><dt>150</dt><dd>0.605299084752536</dd><dt>154</dt><dd>0.215762741672217</dd><dt>158</dt><dd>0.550183181422373</dd><dt>162</dt><dd>0.410359923678799</dd><dt>166</dt><dd>0.728554485817749</dd><dt>170</dt><dd>0.248354848127692</dd><dt>174</dt><dd>0.466267625413731</dd><dt>178</dt><dd>0.193330217879165</dd><dt>182</dt><dd>0.137845329401384</dd><dt>186</dt><dd>0.50517976315725</dd><dt>190</dt><dd>0.31971650618076</dd><dt>194</dt><dd>0.0896585881541882</dd><dt>198</dt><dd>0.06840731748629</dd><dt>202</dt><dd>0.321511437173177</dd><dt>206</dt><dd>0.351050412684848</dd><dt>210</dt><dd>0.384190996506012</dd><dt>214</dt><dd>0.221912440386442</dd><dt>218</dt><dd>0.554773937885405</dd><dt>222</dt><dd>0.349228135964184</dd><dt>226</dt><dd>0.269180956401699</dd><dt>230</dt><dd>0.427988727414794</dd><dt>234</dt><dd>0.0906012340972325</dd><dt>238</dt><dd>0.451255260345064</dd><dt>242</dt><dd>0.618963818470243</dd><dt>246</dt><dd>0.382928092403358</dd><dt>250</dt><dd>0.282178895501007</dd><dt>254</dt><dd>0.112748974472133</dd><dt>258</dt><dd>0.316819957040976</dd><dt>262</dt><dd>0.259656895643053</dd><dt>266</dt><dd>0.146172083287866</dd><dt>270</dt><dd>0.115862763607275</dd><dt>274</dt><dd>0.572241702567925</dd><dt>278</dt><dd>0.594743445743577</dd><dt>282</dt><dd>0.134056270511556</dd><dt>286</dt><dd>0.102139547311627</dd><dt>290</dt><dd>0.0303463147638502</dd><dt>294</dt><dd>0.758045951250995</dd><dt>298</dt><dd>0.252625896968383</dd><dt>302</dt><dd>0.265724890197015</dd><dt>306</dt><dd>0.111789043249002</dd><dt>310</dt><dd>0.120715636953722</dd><dt>314</dt><dd>0.118394260930384</dd><dt>318</dt><dd>0.174748084500738</dd><dt>322</dt><dd>0.350443016554945</dd><dt>326</dt><dd>0.702489729875784</dd><dt>330</dt><dd>0.0627227797461587</dd><dt>334</dt><dd>0.205139604739129</dd><dt>338</dt><dd>0.087949785115712</dd><dt>342</dt><dd>0.112089513202853</dd><dt>346</dt><dd>0.138177322103631</dd><dt>350</dt><dd>0.269958730448284</dd><dt>354</dt><dd>0.441562662057871</dd><dt>358</dt><dd>0.596560614883229</dd><dt>362</dt><dd>0.556808391284437</dd><dt>366</dt><dd>0.109471641629079</dd><dt>370</dt><dd>0.571160943347067</dd><dt>374</dt><dd>0.565610270582966</dd><dt>378</dt><dd>0.595665415969338</dd><dt>382</dt><dd>0.364972908526442</dd><dt>386</dt><dd>0.396202894265998</dd><dt>390</dt><dd>0.4125800441752</dd><dt>394</dt><dd>0.457671662148402</dd><dt>398</dt><dd>0.184215430399758</dd></dl>\n"
      ],
      "text/latex": [
       "\\begin{description*}\n",
       "\\item[2] 0.278433190319172\n",
       "\\item[6] 0.353832593137583\n",
       "\\item[10] 0.532925818241532\n",
       "\\item[14] 0.345651112207683\n",
       "\\item[18] 0.0747107578170348\n",
       "\\item[22] 0.448469866847746\n",
       "\\item[26] 0.702198882281945\n",
       "\\item[30] 0.502105207267896\n",
       "\\item[34] 0.402603918972973\n",
       "\\item[38] 0.128615628230947\n",
       "\\item[42] 0.345965844834579\n",
       "\\item[46] 0.179706260389412\n",
       "\\item[50] 0.151956532216069\n",
       "\\item[54] 0.377432537588086\n",
       "\\item[58] 0.106057343147371\n",
       "\\item[62] 0.0964430613489362\n",
       "\\item[66] 0.412692441118241\n",
       "\\item[70] 0.715442564461132\n",
       "\\item[74] 0.496649733590291\n",
       "\\item[78] 0.402603918972973\n",
       "\\item[82] 0.311495314240252\n",
       "\\item[86] 0.257720916949492\n",
       "\\item[90] 0.533041250174793\n",
       "\\item[94] 0.27005013568976\n",
       "\\item[98] 0.356676023249749\n",
       "\\item[102] 0.233315252274796\n",
       "\\item[106] 0.339353122274278\n",
       "\\item[110] 0.331848686596069\n",
       "\\item[114] 0.522485979107133\n",
       "\\item[118] 0.487136797571306\n",
       "\\item[122] 0.195457163044164\n",
       "\\item[126] 0.0980732528300422\n",
       "\\item[130] 0.070735894671551\n",
       "\\item[134] 0.143727175347758\n",
       "\\item[138] 0.359663247514615\n",
       "\\item[142] 0.141978989848597\n",
       "\\item[146] 0.156773455784324\n",
       "\\item[150] 0.605299084752536\n",
       "\\item[154] 0.215762741672217\n",
       "\\item[158] 0.550183181422373\n",
       "\\item[162] 0.410359923678799\n",
       "\\item[166] 0.728554485817749\n",
       "\\item[170] 0.248354848127692\n",
       "\\item[174] 0.466267625413731\n",
       "\\item[178] 0.193330217879165\n",
       "\\item[182] 0.137845329401384\n",
       "\\item[186] 0.50517976315725\n",
       "\\item[190] 0.31971650618076\n",
       "\\item[194] 0.0896585881541882\n",
       "\\item[198] 0.06840731748629\n",
       "\\item[202] 0.321511437173177\n",
       "\\item[206] 0.351050412684848\n",
       "\\item[210] 0.384190996506012\n",
       "\\item[214] 0.221912440386442\n",
       "\\item[218] 0.554773937885405\n",
       "\\item[222] 0.349228135964184\n",
       "\\item[226] 0.269180956401699\n",
       "\\item[230] 0.427988727414794\n",
       "\\item[234] 0.0906012340972325\n",
       "\\item[238] 0.451255260345064\n",
       "\\item[242] 0.618963818470243\n",
       "\\item[246] 0.382928092403358\n",
       "\\item[250] 0.282178895501007\n",
       "\\item[254] 0.112748974472133\n",
       "\\item[258] 0.316819957040976\n",
       "\\item[262] 0.259656895643053\n",
       "\\item[266] 0.146172083287866\n",
       "\\item[270] 0.115862763607275\n",
       "\\item[274] 0.572241702567925\n",
       "\\item[278] 0.594743445743577\n",
       "\\item[282] 0.134056270511556\n",
       "\\item[286] 0.102139547311627\n",
       "\\item[290] 0.0303463147638502\n",
       "\\item[294] 0.758045951250995\n",
       "\\item[298] 0.252625896968383\n",
       "\\item[302] 0.265724890197015\n",
       "\\item[306] 0.111789043249002\n",
       "\\item[310] 0.120715636953722\n",
       "\\item[314] 0.118394260930384\n",
       "\\item[318] 0.174748084500738\n",
       "\\item[322] 0.350443016554945\n",
       "\\item[326] 0.702489729875784\n",
       "\\item[330] 0.0627227797461587\n",
       "\\item[334] 0.205139604739129\n",
       "\\item[338] 0.087949785115712\n",
       "\\item[342] 0.112089513202853\n",
       "\\item[346] 0.138177322103631\n",
       "\\item[350] 0.269958730448284\n",
       "\\item[354] 0.441562662057871\n",
       "\\item[358] 0.596560614883229\n",
       "\\item[362] 0.556808391284437\n",
       "\\item[366] 0.109471641629079\n",
       "\\item[370] 0.571160943347067\n",
       "\\item[374] 0.565610270582966\n",
       "\\item[378] 0.595665415969338\n",
       "\\item[382] 0.364972908526442\n",
       "\\item[386] 0.396202894265998\n",
       "\\item[390] 0.4125800441752\n",
       "\\item[394] 0.457671662148402\n",
       "\\item[398] 0.184215430399758\n",
       "\\end{description*}\n"
      ],
      "text/markdown": [
       "2\n",
       ":   0.2784331903191726\n",
       ":   0.35383259313758310\n",
       ":   0.53292581824153214\n",
       ":   0.34565111220768318\n",
       ":   0.074710757817034822\n",
       ":   0.44846986684774626\n",
       ":   0.70219888228194530\n",
       ":   0.50210520726789634\n",
       ":   0.40260391897297338\n",
       ":   0.12861562823094742\n",
       ":   0.34596584483457946\n",
       ":   0.17970626038941250\n",
       ":   0.15195653221606954\n",
       ":   0.37743253758808658\n",
       ":   0.10605734314737162\n",
       ":   0.096443061348936266\n",
       ":   0.41269244111824170\n",
       ":   0.71544256446113274\n",
       ":   0.49664973359029178\n",
       ":   0.40260391897297382\n",
       ":   0.31149531424025286\n",
       ":   0.25772091694949290\n",
       ":   0.53304125017479394\n",
       ":   0.2700501356897698\n",
       ":   0.356676023249749102\n",
       ":   0.233315252274796106\n",
       ":   0.339353122274278110\n",
       ":   0.331848686596069114\n",
       ":   0.522485979107133118\n",
       ":   0.487136797571306122\n",
       ":   0.195457163044164126\n",
       ":   0.0980732528300422130\n",
       ":   0.070735894671551134\n",
       ":   0.143727175347758138\n",
       ":   0.359663247514615142\n",
       ":   0.141978989848597146\n",
       ":   0.156773455784324150\n",
       ":   0.605299084752536154\n",
       ":   0.215762741672217158\n",
       ":   0.550183181422373162\n",
       ":   0.410359923678799166\n",
       ":   0.728554485817749170\n",
       ":   0.248354848127692174\n",
       ":   0.466267625413731178\n",
       ":   0.193330217879165182\n",
       ":   0.137845329401384186\n",
       ":   0.50517976315725190\n",
       ":   0.31971650618076194\n",
       ":   0.0896585881541882198\n",
       ":   0.06840731748629202\n",
       ":   0.321511437173177206\n",
       ":   0.351050412684848210\n",
       ":   0.384190996506012214\n",
       ":   0.221912440386442218\n",
       ":   0.554773937885405222\n",
       ":   0.349228135964184226\n",
       ":   0.269180956401699230\n",
       ":   0.427988727414794234\n",
       ":   0.0906012340972325238\n",
       ":   0.451255260345064242\n",
       ":   0.618963818470243246\n",
       ":   0.382928092403358250\n",
       ":   0.282178895501007254\n",
       ":   0.112748974472133258\n",
       ":   0.316819957040976262\n",
       ":   0.259656895643053266\n",
       ":   0.146172083287866270\n",
       ":   0.115862763607275274\n",
       ":   0.572241702567925278\n",
       ":   0.594743445743577282\n",
       ":   0.134056270511556286\n",
       ":   0.102139547311627290\n",
       ":   0.0303463147638502294\n",
       ":   0.758045951250995298\n",
       ":   0.252625896968383302\n",
       ":   0.265724890197015306\n",
       ":   0.111789043249002310\n",
       ":   0.120715636953722314\n",
       ":   0.118394260930384318\n",
       ":   0.174748084500738322\n",
       ":   0.350443016554945326\n",
       ":   0.702489729875784330\n",
       ":   0.0627227797461587334\n",
       ":   0.205139604739129338\n",
       ":   0.087949785115712342\n",
       ":   0.112089513202853346\n",
       ":   0.138177322103631350\n",
       ":   0.269958730448284354\n",
       ":   0.441562662057871358\n",
       ":   0.596560614883229362\n",
       ":   0.556808391284437366\n",
       ":   0.109471641629079370\n",
       ":   0.571160943347067374\n",
       ":   0.565610270582966378\n",
       ":   0.595665415969338382\n",
       ":   0.364972908526442386\n",
       ":   0.396202894265998390\n",
       ":   0.4125800441752394\n",
       ":   0.457671662148402398\n",
       ":   0.184215430399758\n",
       "\n"
      ],
      "text/plain": [
       "         2          6         10         14         18         22         26 \n",
       "0.27843319 0.35383259 0.53292582 0.34565111 0.07471076 0.44846987 0.70219888 \n",
       "        30         34         38         42         46         50         54 \n",
       "0.50210521 0.40260392 0.12861563 0.34596584 0.17970626 0.15195653 0.37743254 \n",
       "        58         62         66         70         74         78         82 \n",
       "0.10605734 0.09644306 0.41269244 0.71544256 0.49664973 0.40260392 0.31149531 \n",
       "        86         90         94         98        102        106        110 \n",
       "0.25772092 0.53304125 0.27005014 0.35667602 0.23331525 0.33935312 0.33184869 \n",
       "       114        118        122        126        130        134        138 \n",
       "0.52248598 0.48713680 0.19545716 0.09807325 0.07073589 0.14372718 0.35966325 \n",
       "       142        146        150        154        158        162        166 \n",
       "0.14197899 0.15677346 0.60529908 0.21576274 0.55018318 0.41035992 0.72855449 \n",
       "       170        174        178        182        186        190        194 \n",
       "0.24835485 0.46626763 0.19333022 0.13784533 0.50517976 0.31971651 0.08965859 \n",
       "       198        202        206        210        214        218        222 \n",
       "0.06840732 0.32151144 0.35105041 0.38419100 0.22191244 0.55477394 0.34922814 \n",
       "       226        230        234        238        242        246        250 \n",
       "0.26918096 0.42798873 0.09060123 0.45125526 0.61896382 0.38292809 0.28217890 \n",
       "       254        258        262        266        270        274        278 \n",
       "0.11274897 0.31681996 0.25965690 0.14617208 0.11586276 0.57224170 0.59474345 \n",
       "       282        286        290        294        298        302        306 \n",
       "0.13405627 0.10213955 0.03034631 0.75804595 0.25262590 0.26572489 0.11178904 \n",
       "       310        314        318        322        326        330        334 \n",
       "0.12071564 0.11839426 0.17474808 0.35044302 0.70248973 0.06272278 0.20513960 \n",
       "       338        342        346        350        354        358        362 \n",
       "0.08794979 0.11208951 0.13817732 0.26995873 0.44156266 0.59656061 0.55680839 \n",
       "       366        370        374        378        382        386        390 \n",
       "0.10947164 0.57116094 0.56561027 0.59566542 0.36497291 0.39620289 0.41258004 \n",
       "       394        398 \n",
       "0.45767166 0.18421543 "
      ]
     },
     "metadata": {},
     "output_type": "display_data"
    }
   ],
   "source": [
    "coef(fit_logistic_model)[\"gre\"] \n",
    "coef(fit_logistic_model)[\"gpa\"] \n",
    "coef(fit_logistic_model)[\"rank\"]  \n",
    "predict_reg <- predict(fit_logistic_model,test_reg, type = \"response\")\n",
    "predict_reg "
   ]
  },
  {
   "cell_type": "code",
   "execution_count": 7,
   "id": "27ddc88b",
   "metadata": {},
   "outputs": [
    {
     "data": {
      "image/png": "[encoded data removed]",
      "text/plain": [
       "Plot with title \"\""
      ]
     },
     "metadata": {
      "image/png": {
       "height": 420,
       "width": 420
      }
     },
     "output_type": "display_data"
    },
    {
     "data": {
      "image/png": "[encoded data removed]",
      "text/plain": [
       "Plot with title \"\""
      ]
     },
     "metadata": {
      "image/png": {
       "height": 420,
       "width": 420
      }
     },
     "output_type": "display_data"
    },
    {
     "data": {
      "image/png": "[encoded data removed]",
      "text/plain": [
       "Plot with title \"\""
      ]
     },
     "metadata": {
      "image/png": {
       "height": 420,
       "width": 420
      }
     },
     "output_type": "display_data"
    }
   ],
   "source": [
    "cdplot(as.factor(admit)~ gpa, data=college) \n",
    "cdplot(as.factor(admit)~ gre, data=college) \n",
    "cdplot(as.factor(admit)~ rank, data=college) \n"
   ]
  },
  {
   "cell_type": "code",
   "execution_count": 8,
   "id": "eda68baf",
   "metadata": {},
   "outputs": [
    {
     "data": {
      "text/html": [
       "<style>\n",
       ".dl-inline {width: auto; margin:0; padding: 0}\n",
       ".dl-inline>dt, .dl-inline>dd {float: none; width: auto; display: inline-block}\n",
       ".dl-inline>dt::after {content: \":\\0020\"; padding-right: .5ex}\n",
       ".dl-inline>dt:not(:first-of-type) {padding-left: .5ex}\n",
       "</style><dl class=dl-inline><dt>2</dt><dd>0</dd><dt>6</dt><dd>0</dd><dt>10</dt><dd>1</dd><dt>14</dt><dd>0</dd><dt>18</dt><dd>0</dd><dt>22</dt><dd>0</dd><dt>26</dt><dd>1</dd><dt>30</dt><dd>1</dd><dt>34</dt><dd>0</dd><dt>38</dt><dd>0</dd><dt>42</dt><dd>0</dd><dt>46</dt><dd>0</dd><dt>50</dt><dd>0</dd><dt>54</dt><dd>0</dd><dt>58</dt><dd>0</dd><dt>62</dt><dd>0</dd><dt>66</dt><dd>0</dd><dt>70</dt><dd>1</dd><dt>74</dt><dd>0</dd><dt>78</dt><dd>0</dd><dt>82</dt><dd>0</dd><dt>86</dt><dd>0</dd><dt>90</dt><dd>1</dd><dt>94</dt><dd>0</dd><dt>98</dt><dd>0</dd><dt>102</dt><dd>0</dd><dt>106</dt><dd>0</dd><dt>110</dt><dd>0</dd><dt>114</dt><dd>1</dd><dt>118</dt><dd>0</dd><dt>122</dt><dd>0</dd><dt>126</dt><dd>0</dd><dt>130</dt><dd>0</dd><dt>134</dt><dd>0</dd><dt>138</dt><dd>0</dd><dt>142</dt><dd>0</dd><dt>146</dt><dd>0</dd><dt>150</dt><dd>1</dd><dt>154</dt><dd>0</dd><dt>158</dt><dd>1</dd><dt>162</dt><dd>0</dd><dt>166</dt><dd>1</dd><dt>170</dt><dd>0</dd><dt>174</dt><dd>0</dd><dt>178</dt><dd>0</dd><dt>182</dt><dd>0</dd><dt>186</dt><dd>1</dd><dt>190</dt><dd>0</dd><dt>194</dt><dd>0</dd><dt>198</dt><dd>0</dd><dt>202</dt><dd>0</dd><dt>206</dt><dd>0</dd><dt>210</dt><dd>0</dd><dt>214</dt><dd>0</dd><dt>218</dt><dd>1</dd><dt>222</dt><dd>0</dd><dt>226</dt><dd>0</dd><dt>230</dt><dd>0</dd><dt>234</dt><dd>0</dd><dt>238</dt><dd>0</dd><dt>242</dt><dd>1</dd><dt>246</dt><dd>0</dd><dt>250</dt><dd>0</dd><dt>254</dt><dd>0</dd><dt>258</dt><dd>0</dd><dt>262</dt><dd>0</dd><dt>266</dt><dd>0</dd><dt>270</dt><dd>0</dd><dt>274</dt><dd>1</dd><dt>278</dt><dd>1</dd><dt>282</dt><dd>0</dd><dt>286</dt><dd>0</dd><dt>290</dt><dd>0</dd><dt>294</dt><dd>1</dd><dt>298</dt><dd>0</dd><dt>302</dt><dd>0</dd><dt>306</dt><dd>0</dd><dt>310</dt><dd>0</dd><dt>314</dt><dd>0</dd><dt>318</dt><dd>0</dd><dt>322</dt><dd>0</dd><dt>326</dt><dd>1</dd><dt>330</dt><dd>0</dd><dt>334</dt><dd>0</dd><dt>338</dt><dd>0</dd><dt>342</dt><dd>0</dd><dt>346</dt><dd>0</dd><dt>350</dt><dd>0</dd><dt>354</dt><dd>0</dd><dt>358</dt><dd>1</dd><dt>362</dt><dd>1</dd><dt>366</dt><dd>0</dd><dt>370</dt><dd>1</dd><dt>374</dt><dd>1</dd><dt>378</dt><dd>1</dd><dt>382</dt><dd>0</dd><dt>386</dt><dd>0</dd><dt>390</dt><dd>0</dd><dt>394</dt><dd>0</dd><dt>398</dt><dd>0</dd></dl>\n"
      ],
      "text/latex": [
       "\\begin{description*}\n",
       "\\item[2] 0\n",
       "\\item[6] 0\n",
       "\\item[10] 1\n",
       "\\item[14] 0\n",
       "\\item[18] 0\n",
       "\\item[22] 0\n",
       "\\item[26] 1\n",
       "\\item[30] 1\n",
       "\\item[34] 0\n",
       "\\item[38] 0\n",
       "\\item[42] 0\n",
       "\\item[46] 0\n",
       "\\item[50] 0\n",
       "\\item[54] 0\n",
       "\\item[58] 0\n",
       "\\item[62] 0\n",
       "\\item[66] 0\n",
       "\\item[70] 1\n",
       "\\item[74] 0\n",
       "\\item[78] 0\n",
       "\\item[82] 0\n",
       "\\item[86] 0\n",
       "\\item[90] 1\n",
       "\\item[94] 0\n",
       "\\item[98] 0\n",
       "\\item[102] 0\n",
       "\\item[106] 0\n",
       "\\item[110] 0\n",
       "\\item[114] 1\n",
       "\\item[118] 0\n",
       "\\item[122] 0\n",
       "\\item[126] 0\n",
       "\\item[130] 0\n",
       "\\item[134] 0\n",
       "\\item[138] 0\n",
       "\\item[142] 0\n",
       "\\item[146] 0\n",
       "\\item[150] 1\n",
       "\\item[154] 0\n",
       "\\item[158] 1\n",
       "\\item[162] 0\n",
       "\\item[166] 1\n",
       "\\item[170] 0\n",
       "\\item[174] 0\n",
       "\\item[178] 0\n",
       "\\item[182] 0\n",
       "\\item[186] 1\n",
       "\\item[190] 0\n",
       "\\item[194] 0\n",
       "\\item[198] 0\n",
       "\\item[202] 0\n",
       "\\item[206] 0\n",
       "\\item[210] 0\n",
       "\\item[214] 0\n",
       "\\item[218] 1\n",
       "\\item[222] 0\n",
       "\\item[226] 0\n",
       "\\item[230] 0\n",
       "\\item[234] 0\n",
       "\\item[238] 0\n",
       "\\item[242] 1\n",
       "\\item[246] 0\n",
       "\\item[250] 0\n",
       "\\item[254] 0\n",
       "\\item[258] 0\n",
       "\\item[262] 0\n",
       "\\item[266] 0\n",
       "\\item[270] 0\n",
       "\\item[274] 1\n",
       "\\item[278] 1\n",
       "\\item[282] 0\n",
       "\\item[286] 0\n",
       "\\item[290] 0\n",
       "\\item[294] 1\n",
       "\\item[298] 0\n",
       "\\item[302] 0\n",
       "\\item[306] 0\n",
       "\\item[310] 0\n",
       "\\item[314] 0\n",
       "\\item[318] 0\n",
       "\\item[322] 0\n",
       "\\item[326] 1\n",
       "\\item[330] 0\n",
       "\\item[334] 0\n",
       "\\item[338] 0\n",
       "\\item[342] 0\n",
       "\\item[346] 0\n",
       "\\item[350] 0\n",
       "\\item[354] 0\n",
       "\\item[358] 1\n",
       "\\item[362] 1\n",
       "\\item[366] 0\n",
       "\\item[370] 1\n",
       "\\item[374] 1\n",
       "\\item[378] 1\n",
       "\\item[382] 0\n",
       "\\item[386] 0\n",
       "\\item[390] 0\n",
       "\\item[394] 0\n",
       "\\item[398] 0\n",
       "\\end{description*}\n"
      ],
      "text/markdown": [
       "2\n",
       ":   06\n",
       ":   010\n",
       ":   114\n",
       ":   018\n",
       ":   022\n",
       ":   026\n",
       ":   130\n",
       ":   134\n",
       ":   038\n",
       ":   042\n",
       ":   046\n",
       ":   050\n",
       ":   054\n",
       ":   058\n",
       ":   062\n",
       ":   066\n",
       ":   070\n",
       ":   174\n",
       ":   078\n",
       ":   082\n",
       ":   086\n",
       ":   090\n",
       ":   194\n",
       ":   098\n",
       ":   0102\n",
       ":   0106\n",
       ":   0110\n",
       ":   0114\n",
       ":   1118\n",
       ":   0122\n",
       ":   0126\n",
       ":   0130\n",
       ":   0134\n",
       ":   0138\n",
       ":   0142\n",
       ":   0146\n",
       ":   0150\n",
       ":   1154\n",
       ":   0158\n",
       ":   1162\n",
       ":   0166\n",
       ":   1170\n",
       ":   0174\n",
       ":   0178\n",
       ":   0182\n",
       ":   0186\n",
       ":   1190\n",
       ":   0194\n",
       ":   0198\n",
       ":   0202\n",
       ":   0206\n",
       ":   0210\n",
       ":   0214\n",
       ":   0218\n",
       ":   1222\n",
       ":   0226\n",
       ":   0230\n",
       ":   0234\n",
       ":   0238\n",
       ":   0242\n",
       ":   1246\n",
       ":   0250\n",
       ":   0254\n",
       ":   0258\n",
       ":   0262\n",
       ":   0266\n",
       ":   0270\n",
       ":   0274\n",
       ":   1278\n",
       ":   1282\n",
       ":   0286\n",
       ":   0290\n",
       ":   0294\n",
       ":   1298\n",
       ":   0302\n",
       ":   0306\n",
       ":   0310\n",
       ":   0314\n",
       ":   0318\n",
       ":   0322\n",
       ":   0326\n",
       ":   1330\n",
       ":   0334\n",
       ":   0338\n",
       ":   0342\n",
       ":   0346\n",
       ":   0350\n",
       ":   0354\n",
       ":   0358\n",
       ":   1362\n",
       ":   1366\n",
       ":   0370\n",
       ":   1374\n",
       ":   1378\n",
       ":   1382\n",
       ":   0386\n",
       ":   0390\n",
       ":   0394\n",
       ":   0398\n",
       ":   0\n",
       "\n"
      ],
      "text/plain": [
       "  2   6  10  14  18  22  26  30  34  38  42  46  50  54  58  62  66  70  74  78 \n",
       "  0   0   1   0   0   0   1   1   0   0   0   0   0   0   0   0   0   1   0   0 \n",
       " 82  86  90  94  98 102 106 110 114 118 122 126 130 134 138 142 146 150 154 158 \n",
       "  0   0   1   0   0   0   0   0   1   0   0   0   0   0   0   0   0   1   0   1 \n",
       "162 166 170 174 178 182 186 190 194 198 202 206 210 214 218 222 226 230 234 238 \n",
       "  0   1   0   0   0   0   1   0   0   0   0   0   0   0   1   0   0   0   0   0 \n",
       "242 246 250 254 258 262 266 270 274 278 282 286 290 294 298 302 306 310 314 318 \n",
       "  1   0   0   0   0   0   0   0   1   1   0   0   0   1   0   0   0   0   0   0 \n",
       "322 326 330 334 338 342 346 350 354 358 362 366 370 374 378 382 386 390 394 398 \n",
       "  0   1   0   0   0   0   0   0   0   1   1   0   1   1   1   0   0   0   0   0 "
      ]
     },
     "metadata": {},
     "output_type": "display_data"
    },
    {
     "data": {
      "text/plain": [
       "   predict_reg\n",
       "     0  1\n",
       "  0 53 12\n",
       "  1 26  9"
      ]
     },
     "metadata": {},
     "output_type": "display_data"
    }
   ],
   "source": [
    "predict_reg <- ifelse(predict_reg >0.5,1,0) \n",
    "predict_reg \n",
    "table(test_reg$admit, predict_reg)\n"
   ]
  }
 ],
 "metadata": {
  "kernelspec": {
   "display_name": "R",
   "language": "R",
   "name": "ir"
  },
  "language_info": {
   "codemirror_mode": "r",
   "file_extension": ".r",
   "mimetype": "text/x-r-source",
   "name": "R",
   "pygments_lexer": "r",
   "version": "4.2.2"
  },
  "toc": {
   "base_numbering": 1,
   "nav_menu": {},
   "number_sections": true,
   "sideBar": true,
   "skip_h1_title": false,
   "title_cell": "Table of Contents",
   "title_sidebar": "Contents",
   "toc_cell": false,
   "toc_position": {},
   "toc_section_display": true,
   "toc_window_display": false
  }
 },
 "nbformat": 4,
 "nbformat_minor": 5
}
