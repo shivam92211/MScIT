{
 "cells": [
  {
   "cell_type": "code",
   "execution_count": 19,
   "id": "06f163f6",
   "metadata": {},
   "outputs": [],
   "source": [
    "options(warn=-1)"
   ]
  },
  {
   "cell_type": "code",
   "execution_count": 20,
   "id": "97147614",
   "metadata": {},
   "outputs": [],
   "source": [
    "# Load the dataset\n",
    "data <- read.csv(\"https://raw.githubusercontent.com/csquared/udacity-dlnd/master/nn/binary.csv\")\n"
   ]
  },
  {
   "cell_type": "code",
   "execution_count": 21,
   "id": "1c2460d8",
   "metadata": {},
   "outputs": [
    {
     "data": {
      "image/png": "[encoded data removed]",
      "text/plain": [
       "Plot with title \"Take Home Task prac 2\""
      ]
     },
     "metadata": {
      "image/png": {
       "height": 420,
       "width": 420
      }
     },
     "output_type": "display_data"
    }
   ],
   "source": [
    "# Plot the relationship between gre and chance of admission\n",
    "plot(data$gre, data$admit, xlab = \"gre Score\", ylab = \"Chance of Admission\", main = \"Take Home Task prac 2\" )\n"
   ]
  },
  {
   "cell_type": "code",
   "execution_count": 22,
   "id": "d2125f92",
   "metadata": {},
   "outputs": [],
   "source": [
    "# Fit a simple linear regression model\n",
    "model <- lm(admit ~ gre, data = data)\n"
   ]
  },
  {
   "cell_type": "code",
   "execution_count": 23,
   "id": "9110b312",
   "metadata": {},
   "outputs": [
    {
     "data": {
      "text/plain": [
       "\n",
       "Call:\n",
       "lm(formula = admit ~ gre, data = data)\n",
       "\n",
       "Residuals:\n",
       "    Min      1Q  Median      3Q     Max \n",
       "-0.4755 -0.3415 -0.2522  0.5989  0.8966 \n",
       "\n",
       "Coefficients:\n",
       "              Estimate Std. Error t value Pr(>|t|)    \n",
       "(Intercept) -0.1198407  0.1190510  -1.007 0.314722    \n",
       "gre          0.0007442  0.0001988   3.744 0.000208 ***\n",
       "---\n",
       "Signif. codes:  0 '***' 0.001 '**' 0.01 '*' 0.05 '.' 0.1 ' ' 1\n",
       "\n",
       "Residual standard error: 0.4587 on 398 degrees of freedom\n",
       "Multiple R-squared:  0.03402,\tAdjusted R-squared:  0.03159 \n",
       "F-statistic: 14.02 on 1 and 398 DF,  p-value: 0.0002081\n"
      ]
     },
     "metadata": {},
     "output_type": "display_data"
    }
   ],
   "source": [
    "# Print the summary of the model\n",
    "summary(model)\n"
   ]
  },
  {
   "cell_type": "code",
   "execution_count": 24,
   "id": "dfce069b",
   "metadata": {},
   "outputs": [
    {
     "data": {
      "text/html": [],
      "text/latex": [],
      "text/markdown": [],
      "text/plain": [
       "integer(0)"
      ]
     },
     "metadata": {},
     "output_type": "display_data"
    },
    {
     "data": {
      "image/png": "[encoded data removed]",
      "text/plain": [
       "Plot with title \"Take Home Task prac 2\""
      ]
     },
     "metadata": {
      "image/png": {
       "height": 420,
       "width": 420
      }
     },
     "output_type": "display_data"
    }
   ],
   "source": [
    "# Plot the regression line\n",
    "plot(data$gre, data$admit, xlab = \"gre Score\", ylab = \"Chance of Admission\", main = \"Take Home Task prac 2\" ) + abline(model, col = \"red\")"
   ]
  },
  {
   "cell_type": "code",
   "execution_count": 25,
   "id": "89f75b40",
   "metadata": {},
   "outputs": [
    {
     "data": {
      "text/html": [
       "<strong>1:</strong> -0.117236167341938"
      ],
      "text/latex": [
       "\\textbf{1:} -0.117236167341938"
      ],
      "text/markdown": [
       "**1:** -0.117236167341938"
      ],
      "text/plain": [
       "         1 \n",
       "-0.1172362 "
      ]
     },
     "metadata": {},
     "output_type": "display_data"
    }
   ],
   "source": [
    "# Make a prediction using the model\n",
    "new_data <- data.frame(gre = 3.5)\n",
    "prediction <- predict(model, newdata = new_data)\n",
    "prediction\n"
   ]
  },
  {
   "cell_type": "code",
   "execution_count": null,
   "id": "00b980d5",
   "metadata": {},
   "outputs": [],
   "source": []
  },
  {
   "cell_type": "code",
   "execution_count": null,
   "id": "415134da",
   "metadata": {},
   "outputs": [],
   "source": []
  },
  {
   "cell_type": "code",
   "execution_count": null,
   "id": "244b39f1",
   "metadata": {},
   "outputs": [],
   "source": []
  }
 ],
 "metadata": {
  "kernelspec": {
   "display_name": "R",
   "language": "R",
   "name": "ir"
  },
  "language_info": {
   "codemirror_mode": "r",
   "file_extension": ".r",
   "mimetype": "text/x-r-source",
   "name": "R",
   "pygments_lexer": "r",
   "version": "4.2.2"
  },
  "toc": {
   "base_numbering": 1,
   "nav_menu": {},
   "number_sections": true,
   "sideBar": true,
   "skip_h1_title": false,
   "title_cell": "Table of Contents",
   "title_sidebar": "Contents",
   "toc_cell": false,
   "toc_position": {},
   "toc_section_display": true,
   "toc_window_display": false
  }
 },
 "nbformat": 4,
 "nbformat_minor": 5
}
